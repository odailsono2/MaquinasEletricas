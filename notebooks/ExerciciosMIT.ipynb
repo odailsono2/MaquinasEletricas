{
 "cells": [
  {
   "cell_type": "markdown",
   "id": "e8de01b2-7910-4fe8-b838-190c20cce2da",
   "metadata": {},
   "source": [
    "#### 6.1 Um motor de indução trifásico de $220$V, seis polos e $50$Hz está operando com um escorregamento de $3,5$ %. Encontre:\n",
    "\n",
    "1. A velocidade dos campos magnéticos em rpm.\n",
    "2. A velocidade do rotor em rpm.\n",
    "3. A velocidade de escorregamento.\n",
    "4. A frequência do rotor em hertz (Hz)."
   ]
  },
  {
   "cell_type": "code",
   "execution_count": 20,
   "id": "6ffb2fe1-48ed-445b-8172-2e7d425bbd5b",
   "metadata": {},
   "outputs": [
    {
     "name": "stdout",
     "output_type": "stream",
     "text": [
      "ns=\n",
      "1000.0\n"
     ]
    }
   ],
   "source": [
    "# item 1\n",
    "f = 50; #pode-se alterar\n",
    "P = 6;  #pode-se alterar\n",
    "s = 3.5/100.0; #pode-se alterar\n",
    "ns = 120 * f / P\n",
    "print(\"ns=\")\n",
    "print(ns);\n"
   ]
  },
  {
   "cell_type": "code",
   "execution_count": 21,
   "id": "8ccef5c1-e0fd-47e4-b380-5f27efbf8d1d",
   "metadata": {},
   "outputs": [
    {
     "name": "stdout",
     "output_type": "stream",
     "text": [
      "n=\n",
      "965.0\n"
     ]
    }
   ],
   "source": [
    "#item 2\n",
    "\n",
    "n = (1 - s ) * ns\n",
    "print(\"n=\")\n",
    "print(n);"
   ]
  },
  {
   "cell_type": "code",
   "execution_count": null,
   "id": "62e2125c-c8c4-4f85-a4de-e5bb4162dc07",
   "metadata": {},
   "outputs": [],
   "source": [
    "# item 3\n",
    "n_esc = ns - n\n",
    "print(\"n=\")\n",
    "print(n);"
   ]
  },
  {
   "cell_type": "code",
   "execution_count": 22,
   "id": "874b946d-5bb2-4d44-a113-1c0339b9a6e0",
   "metadata": {},
   "outputs": [
    {
     "name": "stdout",
     "output_type": "stream",
     "text": [
      "fr=\n",
      "1.7500000000000002\n"
     ]
    }
   ],
   "source": [
    "#item 3\n",
    "\n",
    "fr= s *f\n",
    "print(\"fr=\")\n",
    "print(fr)\n"
   ]
  },
  {
   "cell_type": "markdown",
   "id": "9691ae3d-fe9d-4190-b73c-6132c4182bcc",
   "metadata": {},
   "source": [
    "#### 6-4 Um motor de indução de $50$ kW, $460$ V, $50$ Hz, e dois polos, tem escorregamento de $5$ % quando está funcionando em condições de plena carga. Para tais condições,  as perdas por atrito e ventilação são de $700$ W e as no cobre são de $600$ W. Encontre os seguintes valores nessas condições:\n",
    "\n",
    "1. A velocidade no eixo $n_m$.\n",
    "2. A potência de saída em watts.\n",
    "3. O conjugado de carga em $\\tau_{carga}$ em newtons-metros.\n",
    "4. O conjugado de carga em $\\tau_{ind}$ em newtons-metros.\n",
    "5. A frequência do rotor em hertz."
   ]
  },
  {
   "cell_type": "code",
   "execution_count": 28,
   "id": "05dae66d-1298-4b53-a139-3e743d38eb0e",
   "metadata": {},
   "outputs": [
    {
     "name": "stdout",
     "output_type": "stream",
     "text": [
      "ns=\n",
      "3000.0\n",
      "n=\n",
      "2850.0\n"
     ]
    }
   ],
   "source": [
    "#item 1\n",
    "s = 5/100.0;\n",
    "P = 2;\n",
    "f = 50 ; \n",
    "ns = 120 * f / P ;\n",
    "print(\"ns=\");\n",
    "print(ns);\n",
    "n = (1-s)*ns;\n",
    "print(\"n=\");\n",
    "print(n);\n"
   ]
  },
  {
   "cell_type": "code",
   "execution_count": 44,
   "id": "cb5aae34-0d50-4822-842d-5b90e231cb0b",
   "metadata": {},
   "outputs": [
    {
     "name": "stdout",
     "output_type": "stream",
     "text": [
      "Potencia de saida =\n",
      "48700\n"
     ]
    }
   ],
   "source": [
    "#item 2\n",
    "Pot_entrada = 50000;\n",
    "Perdas_cobre = 600; \n",
    "Perda_atrito = 700;\n",
    "Pot_conv = Pot_entrada - Perdas_cobre;\n",
    "Pot_saida = Pot_conv - Perda_atrito;\n",
    "print(\"Potencia de saida =\");\n",
    "print(Pot_saida);"
   ]
  },
  {
   "cell_type": "code",
   "execution_count": 43,
   "id": "5de460cf-ab7d-4d17-8868-e1ca39bce174",
   "metadata": {},
   "outputs": [
    {
     "name": "stdout",
     "output_type": "stream",
     "text": [
      "torque de saida (Nm) =\n",
      "163.17531797407958\n"
     ]
    }
   ],
   "source": [
    "#item 3\n",
    "omega = 2 * 3.1416 * (n / 60);\n",
    "torque_saida = Pot_saida / omega\n",
    "print(\"torque de saida (Nm) =\");\n",
    "print(torque_saida);"
   ]
  },
  {
   "cell_type": "code",
   "execution_count": 45,
   "id": "15447e69-a17f-45b4-b18a-eab1a315793b",
   "metadata": {},
   "outputs": [
    {
     "name": "stdout",
     "output_type": "stream",
     "text": [
      "torque de saida (Nm) =\n",
      "165.52075375604787\n"
     ]
    }
   ],
   "source": [
    "#item 4\n",
    "torque_saida = Pot_conv / omega\n",
    "print(\"torque de saida (Nm) =\");\n",
    "print(torque_saida);\n"
   ]
  },
  {
   "cell_type": "code",
   "execution_count": 48,
   "id": "379132ff-4272-4972-9535-28d608dcf50c",
   "metadata": {},
   "outputs": [
    {
     "name": "stdout",
     "output_type": "stream",
     "text": [
      "freq eletrica rotor (Hz)=\n",
      "2.5\n"
     ]
    }
   ],
   "source": [
    "#item 5\n",
    "fr = s * f\n",
    "print(\"freq eletrica rotor (Hz)=\");\n",
    "print(fr);\n"
   ]
  },
  {
   "cell_type": "markdown",
   "id": "e87e3bab-932b-4809-93dc-498cdf8b97a8",
   "metadata": {},
   "source": []
  }
 ],
 "metadata": {
  "kernelspec": {
   "display_name": "Python 3 (ipykernel)",
   "language": "python",
   "name": "python3"
  },
  "language_info": {
   "codemirror_mode": {
    "name": "ipython",
    "version": 3
   },
   "file_extension": ".py",
   "mimetype": "text/x-python",
   "name": "python",
   "nbconvert_exporter": "python",
   "pygments_lexer": "ipython3",
   "version": "3.10.12"
  }
 },
 "nbformat": 4,
 "nbformat_minor": 5
}
