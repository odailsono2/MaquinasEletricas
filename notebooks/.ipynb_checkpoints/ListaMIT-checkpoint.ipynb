{
 "cells": [
  {
   "cell_type": "markdown",
   "id": "ee98d96d-eca5-4a49-ba6a-78fbe7e12610",
   "metadata": {},
   "source": [
    "Um motor de indução trifásico, 2 polos, 380 V, 60 Hz, ligado em Y, atende uma carga mecânica com 30 kW, à 3520 rpm, determine:\n",
    "1. O escorregamento do motor e o torque induzido. (Resp. 0,02 e 81,43 Nm)\n",
    "2. Agora, considerando que as perdas rotacionais são de 1000 W, calcule deverá ser a potência convertida e o torque induzido desenvolvida pelo motor de indução para fornecer os mesmos 30 kW através do seu eixo à carga, na mesma velocidade. (Resp.\n",
    "31 kW e 84,14 Nm)"
   ]
  },
  {
   "cell_type": "code",
   "execution_count": 2,
   "id": "e5415eed-21fd-4cc8-b9db-2fc309c30861",
   "metadata": {},
   "outputs": [
    {
     "name": "stdout",
     "output_type": "stream",
     "text": [
      "s=\n",
      "0.022222222222222223\n",
      "torque de mec (Nm) =\n",
      "81.42733063115229\n"
     ]
    }
   ],
   "source": [
    "# item 1\n",
    "f = 60; #pode-se alterar\n",
    "P = 2;  #pode-se alterar\n",
    "n = 3520.0; #pode-se alterar\n",
    "Pot_saida = 30000;\n",
    "ns = 120 * f / P\n",
    "s = (ns - n) / ns;\n",
    "omega = 2 * 3.14 * n / 60;\n",
    "\n",
    "print(\"s=\")\n",
    "print(s);\n",
    "\n",
    "torque_ind = Pot_saida / omega;\n",
    "\n",
    "print(\"torque de mec (Nm) =\");\n",
    "print(torque_ind);\n"
   ]
  },
  {
   "cell_type": "code",
   "execution_count": null,
   "id": "4e9b9861-97e9-47bf-bdfe-136b84239d52",
   "metadata": {},
   "outputs": [],
   "source": [
    "# item 1\n",
    "Pot_saida = 30000;\n",
    "Perdas_rot = 1000;\n",
    "ns = 120 * f / P\n",
    "s = (ns - n) / ns;\n",
    "omega = 2 * 3.14 * n / 60;\n",
    "\n",
    "print(\"s=\")\n",
    "print(s);\n",
    "\n",
    "torque_ind = Pot_saida / omega;\n",
    "\n",
    "print(\"torque de mec (Nm) =\");\n",
    "print(torque_saida);"
   ]
  }
 ],
 "metadata": {
  "kernelspec": {
   "display_name": "Python 3 (ipykernel)",
   "language": "python",
   "name": "python3"
  },
  "language_info": {
   "codemirror_mode": {
    "name": "ipython",
    "version": 3
   },
   "file_extension": ".py",
   "mimetype": "text/x-python",
   "name": "python",
   "nbconvert_exporter": "python",
   "pygments_lexer": "ipython3",
   "version": "3.10.12"
  }
 },
 "nbformat": 4,
 "nbformat_minor": 5
}
