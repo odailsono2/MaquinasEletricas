{
 "cells": [
  {
   "cell_type": "markdown",
   "id": "16c18a52-a681-45c3-a785-a399ba7e90a3",
   "metadata": {},
   "source": [
    "# Transformadores\n",
    "\n",
    "Os transformadores são dispositivos elétricos utilizados para transferir energia elétrica de um circuito para outro alterando elevando ou reduzindo a tensão entre os circuitos ou mesmo apenas isolando eletricamente os dois circuito, sem alterar a frequência da corrente elétrica. Os transformadores são dispositivos essenciais no fornecimento de energia elétrica para residências, indústrias e comércios, desempenhando um papel fundamental na distribuição eficiente da eletricidade."
   ]
  },
  {
   "cell_type": "markdown",
   "id": "b9660824-c488-46e3-8ee2-963b964604d8",
   "metadata": {},
   "source": [
    "### Exemplos de aplicações do tranformador:  \n",
    "* Sistema de distribuição pode-se transferir energia de um rede elétrica de 69 kV para uma de 13,8 kV.\n",
    "* Isolação elétrica de trechos de um circuito. Em caso de falhas, os danos não se propagam entre os lados isolados. Isso é aplicado especialmente entre circuitos de potência e circuitos de controle ou comando, ou circuitos de comunicação.\n",
    "* Retificadores de corrente alternada para corrente contínua.\n",
    "* Proteção humana de operadores contra choques elétricos."
   ]
  },
  {
   "attachments": {},
   "cell_type": "markdown",
   "id": "86032f29-91b1-4d12-8343-3f9f1922fe06",
   "metadata": {},
   "source": [
    "### Construção\n",
    "\n",
    "Os transformadores são compostos por duas ou mais bobinas de fio condutor, enroladas em um núcleo de ferro laminado. O material do núcleo é geralmente _ferromagnético_ como o aço-silício (transformadores de baixas frequências, ferrite (altas frequências).\n",
    "|![trafo.jpeg](../images/trafo.jpeg)|\n",
    "|:--:|\n",
    "|Tranformador de dois enrolamentos|\n",
    "\n",
    "| ![Photo-of-tested-transformer-and-geometry-of-magnetic-core.png](../images/Photo-of-tested-transformer-and-geometry-of-magnetic-core.png) |\n",
    "|:--:|\n",
    "|Tranformador e núcleo laminado|\n"
   ]
  },
  {
   "attachments": {
    "662cea8f-2916-46c3-9417-c2c2ac914236.png": {
     "image/png": "[encoded data removed]"
    }
   },
   "cell_type": "markdown",
   "id": "ae934475-018d-4e64-a709-f22edb1a4d3d",
   "metadata": {},
   "source": [
    "## Simbologia do Transformador\n",
    "\n",
    "A simbologia comum utilizada na literatura e esquemas elétricos é apresentada a seguir:\n",
    "\n",
    "| ![simbolo_trafo.png](attachment:662cea8f-2916-46c3-9417-c2c2ac914236.png) |\n",
    "|:--:|\n",
    "|Símbolo|\n"
   ]
  },
  {
   "cell_type": "markdown",
   "id": "d4265c29-29a9-4373-8d04-8c855d7e9781",
   "metadata": {},
   "source": [
    "## Principio de Funcionamento\n",
    "\n",
    "Os transformadores operam com base no **princípio da indução eletromagnética**, onde a variação do fluxo magnético produzido por uma bobina induz uma corrente elétrica em outra bobina próxima.\n",
    "\n",
    "Quando uma corrente alternada percorre o enrolamento primário, surge um fluxo magnético no núcleo. Boa parte desse fluxo se concentra no interior do núcleo. Porém, na prática, uma parte do fluxo se dispersa no ar em torno das espiras.\n",
    "\n",
    "Como o fluxo magnético flui através do segundo enrolamento, logo, por indução eletromagnética, surge uma tensão no enrolamento secundário. A tensão no enrolamento secundário é utilizada para alimentar as cargas.\n",
    "\n",
    "Quando uma corrente circula no secundário devido as cargas a este conectado, essa tem um efeito de desmagnetizar o núcleo. Naturalmente o enrolamento primário fornece mais corrente para remagnetizar o núcleo ao nível anterior.\n",
    "\n",
    "O fluxo no núcleo tem comportamento semelhante ao da corrente de alimentação alternando-se de sentido, e devido ao histerese magnética, parte da energia acaba sendo disperdiçada na forma de calor. \n",
    "\n",
    "\n"
   ]
  },
  {
   "cell_type": "markdown",
   "id": "c3db24b3-c884-49a7-a541-4c17801dbec2",
   "metadata": {},
   "source": [
    "## Tranformador ideal\n",
    "\n",
    "Neste caso inicial, considere que o transformador não apresenta perdas ôhmicas, ou seja, as resistências dos enrolamentos primário e secundário são zero, não há espraiamento do campo nos enrolamentos e não existem perdas no processo de magnetização do núcleo do transformador. O transformador ideal não existe na prática, mas a sua análise aqui é usada para esclarecer o funcionamento do transformador"
   ]
  },
  {
   "cell_type": "markdown",
   "id": "a7f24357-42ec-46b4-866e-9934ff5880cd",
   "metadata": {},
   "source": [
    "## Polaridade de um transformador\n",
    "A tensão no secundário pode estar em fase ou não com a tensão no primário. Isso é indicado pela polaridade do transformador: aditiva ou subtrativa.\n",
    "\n",
    "### Polaridade Aditiva\n",
    "\n",
    "* Quando os enrolamentos primário e secundário são polarizados de forma aditiva, significa que as tensões nos dois enrolamentos têm a mesma direção relativa, ou seja, estão em fase.\n",
    "* Quando a tensão é aplicada ao enrolamento primário em um determinado sentido (polaridade positiva), a tensão induzida no enrolamento secundário também terá a mesma polaridade, ou seja, positiva.\n",
    "* Isso significa que as tensões nos enrolamentos estão alinhadas e somam-se quando conectadas corretamente.\n",
    "\n",
    "### Polaridade Subtrativa\n",
    "* Quando os enrolamentos primário e secundário são polarizados de forma subtrativa, significa que as tensões nos dois enrolamentos têm direções opostas, ou seja, estão fora de fase.\n",
    "* Quando a tensão é aplicada ao enrolamento primário em um determinado sentido (polaridade positiva), a tensão induzida no enrolamento secundário terá polaridade oposta, ou seja, negativa.\n",
    "* Isso significa que as tensões nos enrolamentos estão desalinhadas e se subtraem quando conectadas corretamente."
   ]
  },
  {
   "cell_type": "code",
   "execution_count": null,
   "id": "677f65a7-300a-4e85-858f-a4e41f55f8a4",
   "metadata": {},
   "outputs": [],
   "source": []
  },
  {
   "cell_type": "code",
   "execution_count": null,
   "id": "08971c9a-e5ed-444f-a815-585da4779340",
   "metadata": {},
   "outputs": [],
   "source": []
  }
 ],
 "metadata": {
  "kernelspec": {
   "display_name": "Python 3 (ipykernel)",
   "language": "python",
   "name": "python3"
  },
  "language_info": {
   "codemirror_mode": {
    "name": "ipython",
    "version": 3
   },
   "file_extension": ".py",
   "mimetype": "text/x-python",
   "name": "python",
   "nbconvert_exporter": "python",
   "pygments_lexer": "ipython3",
   "version": "3.10.12"
  }
 },
 "nbformat": 4,
 "nbformat_minor": 5
}
